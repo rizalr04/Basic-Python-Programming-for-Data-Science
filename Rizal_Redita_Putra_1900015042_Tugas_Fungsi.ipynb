{
  "nbformat": 4,
  "nbformat_minor": 0,
  "metadata": {
    "colab": {
      "name": "Rizal Redita Putra_1900015042_Tugas_Fungsi",
      "provenance": [],
      "authorship_tag": "ABX9TyNTrd8eFaGUod/pddBX53Om",
      "include_colab_link": true
    },
    "kernelspec": {
      "name": "python3",
      "display_name": "Python 3"
    },
    "language_info": {
      "name": "python"
    }
  },
  "cells": [
    {
      "cell_type": "markdown",
      "metadata": {
        "id": "view-in-github",
        "colab_type": "text"
      },
      "source": [
        "<a href=\"https://colab.research.google.com/github/rizalr04/Basic-Python-Programming-for-Data-Science/blob/main/Rizal_Redita_Putra_1900015042_Tugas_Fungsi.ipynb\" target=\"_parent\"><img src=\"https://colab.research.google.com/assets/colab-badge.svg\" alt=\"Open In Colab\"/></a>"
      ]
    },
    {
      "cell_type": "code",
      "metadata": {
        "colab": {
          "base_uri": "https://localhost:8080/"
        },
        "id": "R4sUif0F2rZw",
        "outputId": "0edecbf0-8841-4587-93d0-fca73a237d9a"
      },
      "source": [
        "my_list = [i for i in range(1,10+1)]\n",
        "print('My List =', my_list)\n",
        "\n",
        "genap=[]\n",
        "ganjil=[]\n",
        "\n",
        "for i in my_list:\n",
        "  if i %2==0:\n",
        "    genap.append(i)\n",
        "  else:\n",
        "    ganjil.append(i)\n",
        "\n",
        "print('Genap = ', [i for i in genap])\n",
        "print('Ganjil = ', [i for i in ganjil])"
      ],
      "execution_count": 24,
      "outputs": [
        {
          "output_type": "stream",
          "text": [
            "My List = [1, 2, 3, 4, 5, 6, 7, 8, 9, 10]\n",
            "Genap =  [2, 4, 6, 8, 10]\n",
            "Ganjil =  [1, 3, 5, 7, 9]\n"
          ],
          "name": "stdout"
        }
      ]
    }
  ]
}