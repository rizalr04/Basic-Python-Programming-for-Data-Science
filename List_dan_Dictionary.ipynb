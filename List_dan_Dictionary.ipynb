{
  "nbformat": 4,
  "nbformat_minor": 0,
  "metadata": {
    "colab": {
      "name": "Rizal_Redita_Putra_1900015042_List_dan_Dictionary.ipynb",
      "provenance": [],
      "authorship_tag": "ABX9TyO14MGQhyVtp4vpRUki9fd3",
      "include_colab_link": true
    },
    "kernelspec": {
      "name": "python3",
      "display_name": "Python 3"
    },
    "language_info": {
      "name": "python"
    }
  },
  "cells": [
    {
      "cell_type": "markdown",
      "metadata": {
        "id": "view-in-github",
        "colab_type": "text"
      },
      "source": [
        "<a href=\"https://colab.research.google.com/github/rizalr04/Basic-Python-Programming-for-Data-Science/blob/main/List_dan_Dictionary.ipynb\" target=\"_parent\"><img src=\"https://colab.research.google.com/assets/colab-badge.svg\" alt=\"Open In Colab\"/></a>"
      ]
    },
    {
      "cell_type": "markdown",
      "metadata": {
        "id": "bMoRliFKa1A7"
      },
      "source": [
        "1. Buatlah sebuah list dengan elemen bilangan kelipatan 5 dengan panjang elemen sejumlah 100"
      ]
    },
    {
      "cell_type": "code",
      "metadata": {
        "colab": {
          "base_uri": "https://localhost:8080/"
        },
        "id": "X4rNpWu7aurY",
        "outputId": "80740ee9-5403-442b-ae11-8e79af41411e"
      },
      "source": [
        "#Tuliskan kodemu di bawah ini:\n",
        "elemen = []\n",
        "for n in range (1,100+1):\n",
        "  elemen.append(n*5)\n",
        "\n",
        "print(elemen)\n",
        "print(len(elemen))"
      ],
      "execution_count": null,
      "outputs": [
        {
          "output_type": "stream",
          "text": [
            "[5, 10, 15, 20, 25, 30, 35, 40, 45, 50, 55, 60, 65, 70, 75, 80, 85, 90, 95, 100, 105, 110, 115, 120, 125, 130, 135, 140, 145, 150, 155, 160, 165, 170, 175, 180, 185, 190, 195, 200, 205, 210, 215, 220, 225, 230, 235, 240, 245, 250, 255, 260, 265, 270, 275, 280, 285, 290, 295, 300, 305, 310, 315, 320, 325, 330, 335, 340, 345, 350, 355, 360, 365, 370, 375, 380, 385, 390, 395, 400, 405, 410, 415, 420, 425, 430, 435, 440, 445, 450, 455, 460, 465, 470, 475, 480, 485, 490, 495, 500]\n",
            "100\n"
          ],
          "name": "stdout"
        }
      ]
    },
    {
      "cell_type": "markdown",
      "metadata": {
        "id": "QvfXSW0Fa_EE"
      },
      "source": [
        "2. Buatlah sebuah dictionary dengan jumlah elemen 100 dan lakukanlah beberapa modifikasi(minimal 3) di dalamnya."
      ]
    },
    {
      "cell_type": "code",
      "metadata": {
        "colab": {
          "base_uri": "https://localhost:8080/"
        },
        "id": "YbgmlPIkbGTR",
        "outputId": "26de846b-347d-4110-fe70-a3ad3e8a8b4f"
      },
      "source": [
        "#Tuliskan kodemu di bawah ini:\n",
        "\n",
        "#Membuat Dictionary\n",
        "dictionary = []\n",
        "dictionary2 = []\n",
        "for n in range (1,100+1):\n",
        "  dictionary.append(n*5)\n",
        "print(dictionary)\n",
        "for a in range (100,1,-1):\n",
        "  dictionary2.append(a)\n",
        "print(dictionary2)\n",
        "print(len(dictionary))\n",
        "\n",
        "#Modifikasi 1\n",
        "dictionary1 = []\n",
        "for n in range (1,110+1):\n",
        "  dictionary1.append(n*5)\n",
        "dictionary1[15]=\"rizal\" #Mengubah Nilai Pada Dictionary\n",
        "\n",
        "print(dictionary1)\n",
        "\n",
        "#Modifikasi 2\n",
        "dictionary1 = []\n",
        "for n in range (1,110+1):\n",
        "  dictionary1.append(n*5)\n",
        "dictionary1.clear() #Menghapus Item Pada Dictionary\n",
        "\n",
        "print(dictionary1)\n",
        "\n",
        "#Modifikasi 3\n",
        "dictionary1 = []\n",
        "for n in range (1,110+1):\n",
        "  dictionary1.append(n*5)\n",
        "mydict=dictionary1.copy() #Menyalin Dictionary\n",
        "print(mydict)"
      ],
      "execution_count": null,
      "outputs": [
        {
          "output_type": "stream",
          "text": [
            "[5, 10, 15, 20, 25, 30, 35, 40, 45, 50, 55, 60, 65, 70, 75, 80, 85, 90, 95, 100, 105, 110, 115, 120, 125, 130, 135, 140, 145, 150, 155, 160, 165, 170, 175, 180, 185, 190, 195, 200, 205, 210, 215, 220, 225, 230, 235, 240, 245, 250, 255, 260, 265, 270, 275, 280, 285, 290, 295, 300, 305, 310, 315, 320, 325, 330, 335, 340, 345, 350, 355, 360, 365, 370, 375, 380, 385, 390, 395, 400, 405, 410, 415, 420, 425, 430, 435, 440, 445, 450, 455, 460, 465, 470, 475, 480, 485, 490, 495, 500]\n",
            "[100, 99, 98, 97, 96, 95, 94, 93, 92, 91, 90, 89, 88, 87, 86, 85, 84, 83, 82, 81, 80, 79, 78, 77, 76, 75, 74, 73, 72, 71, 70, 69, 68, 67, 66, 65, 64, 63, 62, 61, 60, 59, 58, 57, 56, 55, 54, 53, 52, 51, 50, 49, 48, 47, 46, 45, 44, 43, 42, 41, 40, 39, 38, 37, 36, 35, 34, 33, 32, 31, 30, 29, 28, 27, 26, 25, 24, 23, 22, 21, 20, 19, 18, 17, 16, 15, 14, 13, 12, 11, 10, 9, 8, 7, 6, 5, 4, 3, 2]\n",
            "100\n",
            "[5, 10, 15, 20, 25, 30, 35, 40, 45, 50, 55, 60, 65, 70, 75, 'rizal', 85, 90, 95, 100, 105, 110, 115, 120, 125, 130, 135, 140, 145, 150, 155, 160, 165, 170, 175, 180, 185, 190, 195, 200, 205, 210, 215, 220, 225, 230, 235, 240, 245, 250, 255, 260, 265, 270, 275, 280, 285, 290, 295, 300, 305, 310, 315, 320, 325, 330, 335, 340, 345, 350, 355, 360, 365, 370, 375, 380, 385, 390, 395, 400, 405, 410, 415, 420, 425, 430, 435, 440, 445, 450, 455, 460, 465, 470, 475, 480, 485, 490, 495, 500, 505, 510, 515, 520, 525, 530, 535, 540, 545, 550]\n",
            "[]\n",
            "[5, 10, 15, 20, 25, 30, 35, 40, 45, 50, 55, 60, 65, 70, 75, 80, 85, 90, 95, 100, 105, 110, 115, 120, 125, 130, 135, 140, 145, 150, 155, 160, 165, 170, 175, 180, 185, 190, 195, 200, 205, 210, 215, 220, 225, 230, 235, 240, 245, 250, 255, 260, 265, 270, 275, 280, 285, 290, 295, 300, 305, 310, 315, 320, 325, 330, 335, 340, 345, 350, 355, 360, 365, 370, 375, 380, 385, 390, 395, 400, 405, 410, 415, 420, 425, 430, 435, 440, 445, 450, 455, 460, 465, 470, 475, 480, 485, 490, 495, 500, 505, 510, 515, 520, 525, 530, 535, 540, 545, 550]\n"
          ],
          "name": "stdout"
        }
      ]
    },
    {
      "cell_type": "code",
      "metadata": {
        "id": "GWyeiTDBdAWB"
      },
      "source": [
        ""
      ],
      "execution_count": null,
      "outputs": []
    }
  ]
}